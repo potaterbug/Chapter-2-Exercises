{
 "cells": [
  {
   "cell_type": "raw",
   "metadata": {},
   "source": [
    "# Exercise 2.1 - Simple Message: Store a message in a variable, and then print that message."
   ]
  },
  {
   "cell_type": "code",
   "execution_count": 1,
   "metadata": {},
   "outputs": [
    {
     "name": "stdout",
     "output_type": "stream",
     "text": [
      "This is a message\n"
     ]
    }
   ],
   "source": [
    "message = \"This is a message\"\n",
    "print(message)"
   ]
  },
  {
   "cell_type": "raw",
   "metadata": {},
   "source": [
    "# Exercise 2.2 - Simple Messages: Change the value of the message stored in the variable from Exercise 2.1, then print the new message."
   ]
  },
  {
   "cell_type": "code",
   "execution_count": 2,
   "metadata": {},
   "outputs": [
    {
     "name": "stdout",
     "output_type": "stream",
     "text": [
      "Message has been changed\n"
     ]
    }
   ],
   "source": [
    "message = \"Message has been changed\"\n",
    "print(message)"
   ]
  },
  {
   "cell_type": "raw",
   "metadata": {},
   "source": [
    "#Exercise 2.3 - Personal Message: Store a person's name in a variable, and print a message to that person. Your message should be simple such as, \"Hello Eric, would you like to learn some Python today?\""
   ]
  },
  {
   "cell_type": "code",
   "execution_count": 19,
   "metadata": {},
   "outputs": [
    {
     "name": "stdout",
     "output_type": "stream",
     "text": [
      "Hello abraham lincoln , would you like to learn Python today?\n",
      "Hello abraham lincoln, would you like to learn Python today?\n"
     ]
    }
   ],
   "source": [
    "name = \"abraham lincoln\"\n",
    "print(\"Hello\", name, \", would you like to learn Python today?\")\n",
    "print(\"Hello \" + name + \", would you like to learn Python today?\")"
   ]
  },
  {
   "cell_type": "raw",
   "metadata": {},
   "source": [
    "Exercise 2.4 - Name Cases: Using the name stored in the variable from Exercise 2.3, print that person's name in uppercase, lowercase, and titlecase."
   ]
  },
  {
   "cell_type": "code",
   "execution_count": 5,
   "metadata": {},
   "outputs": [
    {
     "name": "stdout",
     "output_type": "stream",
     "text": [
      "Abraham Lincoln\n",
      "ABRAHAM LINCOLN\n",
      "abraham lincoln\n"
     ]
    }
   ],
   "source": [
    "print(name.title())\n",
    "print(name.upper())\n",
    "print(name.lower())"
   ]
  },
  {
   "cell_type": "raw",
   "metadata": {},
   "source": [
    "Exercise 2.5 - Famous Quote: Find a quote from a famous person you admire. Print the quote and the name of the author. Your output should look something like the following, including the quotation marks: Albert Einstein once said, \"A person who never made a mistake never tried anything new.\""
   ]
  },
  {
   "cell_type": "code",
   "execution_count": 6,
   "metadata": {},
   "outputs": [
    {
     "name": "stdout",
     "output_type": "stream",
     "text": [
      "Abraham Lincoln  once said,\"A person who never made a mistake never tried anything new.\"\n"
     ]
    }
   ],
   "source": [
    "print(name.title(), ' once said,\"A person who never made a mistake never tried anything new.\"')"
   ]
  },
  {
   "cell_type": "raw",
   "metadata": {},
   "source": [
    "Exercise 2.6 - Famous Quote 2: This time, store the famous person's name in a variable called famous_person and store the entire message for the quote in a new variable called message. Print your message"
   ]
  },
  {
   "cell_type": "code",
   "execution_count": 14,
   "metadata": {},
   "outputs": [
    {
     "name": "stdout",
     "output_type": "stream",
     "text": [
      "Albert Einstein once said, \"A person who never made a mistake never tried anything new.\"\n",
      "Albert Einstein once said, \"A person who never made a mistake never tried anything new.\"\n",
      "Albert Einstein once said, \"A person who never made a mistake never tried anything new.\"\n"
     ]
    }
   ],
   "source": [
    "famous_person = \"Albert Einstein\"\n",
    "message = 'once said, \"A person who never made a mistake never tried anything new.\"'\n",
    "print(famous_person + \" \" + message)\n",
    "print(famous_person, message)\n",
    "message = famous_person + \" \" + message\n",
    "print(message)"
   ]
  },
  {
   "cell_type": "raw",
   "metadata": {},
   "source": [
    "Exercise 2.7 - Stripping Names: Store a person's name, and include some whitespace characters at the beginning and end of the name. Make sure you use each character combination, \"\\t\" and \"\\n\" at least once. Print the name so the whitespace around the name is displayed. Then print the name using each of the three stripping functions, lstrip(), rstrip(), and strip()."
   ]
  },
  {
   "cell_type": "code",
   "execution_count": 15,
   "metadata": {},
   "outputs": [
    {
     "name": "stdout",
     "output_type": "stream",
     "text": [
      "    \t\t\tAbraham Lincoln\n",
      "\n",
      "\n",
      "    \n",
      "Abraham Lincoln\n",
      "\n",
      "\n",
      "    \n",
      "    \t\t\tAbraham Lincoln\n",
      "Abraham Lincoln\n"
     ]
    }
   ],
   "source": [
    "name = \"    \\t\\t\\tAbraham Lincoln\\n\\n\\n    \"\n",
    "print(name)\n",
    "print(name.lstrip())\n",
    "print(name.rstrip())\n",
    "print(name.strip())"
   ]
  },
  {
   "cell_type": "raw",
   "metadata": {},
   "source": [
    "Exercise 2.8 - Number Eight: Write addition, subtraction, multiplication, and division operations that each result in the number 8. Be sure to enclose your operations in print statements to see the results. You should create four separate lines of code in the program for each operation."
   ]
  },
  {
   "cell_type": "code",
   "execution_count": 16,
   "metadata": {},
   "outputs": [
    {
     "name": "stdout",
     "output_type": "stream",
     "text": [
      "8\n",
      "8\n",
      "8\n",
      "8.0\n"
     ]
    }
   ],
   "source": [
    "print(1+7)\n",
    "print(10-2)\n",
    "print(2*4)\n",
    "print(16/2)"
   ]
  },
  {
   "cell_type": "raw",
   "metadata": {},
   "source": [
    "Exercise 2.9 - Favorite Number: Store your favorite number in a variable. Then using that variable, create a message that reveals your favorite number. Print the message."
   ]
  },
  {
   "cell_type": "code",
   "execution_count": 23,
   "metadata": {},
   "outputs": [
    {
     "name": "stdout",
     "output_type": "stream",
     "text": [
      "My favorite number is 212\n"
     ]
    }
   ],
   "source": [
    "favorite_number = \"212\"\n",
    "message = \"My favorite number is\"\n",
    "message = message + \" \" + favorite_number\n",
    "print(message)"
   ]
  },
  {
   "cell_type": "raw",
   "metadata": {},
   "source": [
    "Exercise 2.10 - Adding Comments: Choose two of the programs you've created from the previous exercises and add at least one comment to each."
   ]
  },
  {
   "cell_type": "code",
   "execution_count": 26,
   "metadata": {},
   "outputs": [
    {
     "name": "stdout",
     "output_type": "stream",
     "text": [
      "8\n",
      "8\n",
      "8\n",
      "8.0\n",
      " \n",
      "This is a message\n"
     ]
    }
   ],
   "source": [
    "print(1+7)  #addition\n",
    "print(10-2) #subtraction\n",
    "print(2*4)  #multiplication\n",
    "print(16/2) #division\n",
    "\n",
    "#variable message is string variable that gets printed\n",
    "print(\" \")\n",
    "message = \"This is a message\"\n",
    "print(message)"
   ]
  },
  {
   "cell_type": "code",
   "execution_count": null,
   "metadata": {},
   "outputs": [],
   "source": []
  }
 ],
 "metadata": {
  "kernelspec": {
   "display_name": "Python 3",
   "language": "python",
   "name": "python3"
  },
  "language_info": {
   "codemirror_mode": {
    "name": "ipython",
    "version": 3
   },
   "file_extension": ".py",
   "mimetype": "text/x-python",
   "name": "python",
   "nbconvert_exporter": "python",
   "pygments_lexer": "ipython3",
   "version": "3.7.6"
  }
 },
 "nbformat": 4,
 "nbformat_minor": 4
}
